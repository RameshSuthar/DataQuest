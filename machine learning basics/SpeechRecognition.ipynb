{
 "cells": [
  {
   "cell_type": "markdown",
   "metadata": {},
   "source": [
    "Speech must be converted from physical sound to an electrical signal with a microphone, and then to digital data with an analog-to-digital converter. Once digitized, several models can be used to transcribe the audio to text."
   ]
  },
  {
   "cell_type": "code",
   "execution_count": 1,
   "metadata": {},
   "outputs": [],
   "source": [
    "#Speech Recognition using Python\n",
    "#import required libraries\n",
    "import speech_recognition as sr"
   ]
  },
  {
   "cell_type": "code",
   "execution_count": 2,
   "metadata": {},
   "outputs": [],
   "source": [
    "#Recognizer class (The primary purpose of a Recognizer instance is to recognize speech)\n",
    "recogniser = sr.Recognizer()"
   ]
  },
  {
   "cell_type": "markdown",
   "metadata": {},
   "source": [
    "The context manager opens the file and reads its contents, storing the data in an AudioFile instance called source. Then the record() method records the data from the entire file into an AudioData instance. "
   ]
  },
  {
   "cell_type": "code",
   "execution_count": 12,
   "metadata": {},
   "outputs": [
    {
     "name": "stdout",
     "output_type": "stream",
     "text": [
      "the salesman old beer drinkers it takes hi to bring out the order I call dip restore selfinvest a salt a call this find him because of my favourite is just for food is Bihar cross bun\n"
     ]
    }
   ],
   "source": [
    "#Each Recognizer instance has various methods for recognizing speech from an audio source using various APIs\n",
    "#I am going to use google web speech api\n",
    "#Download the wav file from https://github.com/realpython/python-speech-recognition/blob/master/audio_files/harvard.wav\n",
    "\n",
    "harvard  = sr.AudioFile('harvard.wav')\n",
    "data = \" \"\n",
    "with harvard as source:\n",
    "    audio = recogniser.record(source)\n",
    "    data = recogniser.recognize_google(audio)"
   ]
  },
  {
   "cell_type": "markdown",
   "metadata": {},
   "source": [
    "Caution: The default key provided by SpeechRecognition is for testing purposes only, and Google may revoke it at any time. It is not a good idea to use the Google Web Speech API in production. Even with a valid API key, you’ll be limited to only 50 requests per day"
   ]
  },
  {
   "cell_type": "code",
   "execution_count": 13,
   "metadata": {},
   "outputs": [
    {
     "name": "stdout",
     "output_type": "stream",
     "text": [
      "the salesman old beer drinkers it takes hi to bring out the order I call dip restore selfinvest a salt a call this find him because of my favourite is just for food is Bihar cross bun\n"
     ]
    }
   ],
   "source": [
    "#Congratulations, You tried converting the first audio file which contains speech into text.\n",
    "print(data)"
   ]
  },
  {
   "cell_type": "markdown",
   "metadata": {},
   "source": [
    "Reference Link: https://pypi.org/project/SpeechRecognition/"
   ]
  }
 ],
 "metadata": {
  "kernelspec": {
   "display_name": "Python 3",
   "language": "python",
   "name": "python3"
  },
  "language_info": {
   "codemirror_mode": {
    "name": "ipython",
    "version": 3
   },
   "file_extension": ".py",
   "mimetype": "text/x-python",
   "name": "python",
   "nbconvert_exporter": "python",
   "pygments_lexer": "ipython3",
   "version": "3.6.4"
  }
 },
 "nbformat": 4,
 "nbformat_minor": 2
}
