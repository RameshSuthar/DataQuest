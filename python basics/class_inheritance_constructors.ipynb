{
 "cells": [
  {
   "cell_type": "markdown",
   "metadata": {},
   "source": [
    "Learn basics of classes, inheritance and constructor in python. "
   ]
  },
  {
   "cell_type": "code",
   "execution_count": 6,
   "metadata": {},
   "outputs": [
    {
     "name": "stdout",
     "output_type": "stream",
     "text": [
      "Sea Blue is a varient of Indica car\n",
      "Sea Blue is a varient of Indica car and it runs on Diesel\n"
     ]
    }
   ],
   "source": [
    "#Creating class and object\n",
    "class Indica:\n",
    "    #class attribute\n",
    "    parent = 'car'\n",
    "    \n",
    "    #instance attribute\n",
    "    def __init__(self,color,variety):\n",
    "        self.color = color\n",
    "        self.variety = variety\n",
    "    \n",
    "#instantiate the indica class\n",
    "seaBlue = Indica(\"Sea Blue\",\"Diesel\")\n",
    "\n",
    "#access class attributes\n",
    "print(\"Sea Blue is a varient of Indica {}\".format(seaBlue.__class__.parent))\n",
    "\n",
    "#access instance attributes\n",
    "print(\"{} is a varient of Indica car and it runs on {}\".format(seaBlue.color,seaBlue.variety))"
   ]
  },
  {
   "cell_type": "code",
   "execution_count": 11,
   "metadata": {},
   "outputs": [
    {
     "name": "stdout",
     "output_type": "stream",
     "text": [
      "I love Cars\n",
      "I love BMW Cars\n",
      "BMW\n",
      "Ride faster\n",
      "It does flying\n"
     ]
    }
   ],
   "source": [
    "#Making use of basic inheritance in python (Extending the Functionality of a Parent Class)\n",
    "# parent class\n",
    "class Car:\n",
    "    \n",
    "    def __init__(self):\n",
    "        print(\"I love Cars\")\n",
    "\n",
    "    def whoisThis(self):\n",
    "        print(\"Car\")\n",
    "\n",
    "    def ride(self):\n",
    "        print(\"Ride faster\")\n",
    "\n",
    "# child class\n",
    "class BMW(Car):\n",
    "\n",
    "    def __init__(self):\n",
    "        # call super() function\n",
    "        super().__init__()\n",
    "        print(\"I love BMW Cars\")\n",
    "\n",
    "    def whoisThis(self):\n",
    "        print(\"BMW\")\n",
    "\n",
    "    def fastAtCore(self):\n",
    "        print(\"It does flying\")\n",
    "\n",
    "car_bmw_obj = BMW()\n",
    "car_bmw_obj.whoisThis()\n",
    "car_bmw_obj.ride()\n",
    "car_bmw_obj.fastAtCore()"
   ]
  },
  {
   "cell_type": "code",
   "execution_count": 13,
   "metadata": {},
   "outputs": [
    {
     "name": "stdout",
     "output_type": "stream",
     "text": [
      "Hactoberfest in Chennai\n"
     ]
    }
   ],
   "source": [
    "#Constructors are used for instantiating an object\n",
    "#Default Constructor\n",
    "class Hack: \n",
    "    data = \"\" \n",
    "  \n",
    "    # default constructor \n",
    "    def __init__(self): \n",
    "        self.data = \"Hactoberfest in Chennai\"\n",
    "  \n",
    "    # print data members \n",
    "    def printData(self): \n",
    "        print(self.data) \n",
    "  \n",
    "  \n",
    "# creating object of the class \n",
    "data_obj = Hack() \n",
    "  \n",
    "# calling the instance method using the object obj \n",
    "data_obj.printData() "
   ]
  },
  {
   "cell_type": "code",
   "execution_count": 24,
   "metadata": {},
   "outputs": [
    {
     "name": "stdout",
     "output_type": "stream",
     "text": [
      "I love Python and only Python!\n"
     ]
    }
   ],
   "source": [
    "#Parameterised Constructor\n",
    "\n",
    "class Hack: \n",
    "    langChoice1 = ''\n",
    "    langChoice2 = ''\n",
    "  \n",
    "    # Parameterised constructor \n",
    "    def __init__(self,lang1,lang2): \n",
    "        self.langChoice1 = lang1\n",
    "        self.langChoice2 = lang2\n",
    "    \n",
    "    #displaying outcome from doSomething()\n",
    "    def dis(self):\n",
    "        print(\"I love \"+str(self.addData))\n",
    "  \n",
    "    # do string operations \n",
    "    def doSomething(self): \n",
    "        self.addData = self.langChoice1 + \" and only \" + self.langChoice2 + \"!\"\n",
    "  \n",
    "  \n",
    "# creating object and Passing arguments \n",
    "data_obj = Hack('Python','Python') \n",
    "  \n",
    "# calling doSomething method to do some operations\n",
    "data_obj.doSomething() \n",
    "\n",
    "# calling dis method to print outcome\n",
    "data_obj.dis()"
   ]
  },
  {
   "cell_type": "markdown",
   "metadata": {},
   "source": []
  }
 ],
 "metadata": {
  "kernelspec": {
   "display_name": "Python 3",
   "language": "python",
   "name": "python3"
  },
  "language_info": {
   "codemirror_mode": {
    "name": "ipython",
    "version": 3
   },
   "file_extension": ".py",
   "mimetype": "text/x-python",
   "name": "python",
   "nbconvert_exporter": "python",
   "pygments_lexer": "ipython3",
   "version": "3.6.4"
  }
 },
 "nbformat": 4,
 "nbformat_minor": 2
}
